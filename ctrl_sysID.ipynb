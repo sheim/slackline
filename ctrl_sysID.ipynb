{
 "cells": [
  {
   "cell_type": "markdown",
   "id": "ba353509-eec8-4927-beed-68b0bc83587e",
   "metadata": {},
   "source": [
    "# Model Fit with Least Squares\n",
    "\n",
    "Let's first just simulate a cartpole, and fit back to that (with noise) to see if everything checks out."
   ]
  },
  {
   "attachments": {},
   "cell_type": "markdown",
   "id": "db69eeff",
   "metadata": {},
   "source": [
    "### Equations of motion:\n",
    "\n",
    "$$\n",
    "\\begin{align*}\\left[ \\begin{array}{cc}\n",
    "m_c + m_p & m_p \\ell_p\\sin(\\theta) \\\\\n",
    "m_p \\ell_p \\sin(\\theta) & m_p \\ell_p^2\n",
    "\\end{array} \\right]\n",
    "\\left[ \\begin{array}{c}\n",
    "\\ddot{x} \\\\ \\ddot{\\theta} \n",
    "\\end{array}\\right]\n",
    "+\n",
    "\\left[\\begin{array}{c}\n",
    "m_p \\ell_p \\cos(\\theta) \\dot{\\theta}^2 \\\\ - m_p g \\ell_p \\sin(\\theta)\n",
    "\\end{array}\\right]\n",
    "=\n",
    "\\left[\\begin{array}{c}\n",
    "-k_c x \\\\\n",
    "0\n",
    "\\end{array}\\right]\\end{align*}\n",
    "$$\n",
    "So let's set up functions for this."
   ]
  },
  {
   "cell_type": "code",
   "execution_count": null,
   "id": "ac3b1399-5d6b-434a-92af-f1030a4366bd",
   "metadata": {
    "tags": []
   },
   "outputs": [],
   "source": [
    "import numpy as np\n",
    "\n",
    "def mass_matrix(params, x):\n",
    "    M = np.zeros((2, 2))\n",
    "    M[0, 0] = params[\"mass_cart\"] + params[\"mass_pendulum\"]\n",
    "    M[0, 1] = params[\"mass_pendulum\"] * params[\"length_pendulum\"] * np.sin(x[1])\n",
    "    M[1, 0] = params[\"mass_pendulum\"] * params[\"length_pendulum\"] * np.sin(x[1])\n",
    "    M[1, 1] = params[\"mass_pendulum\"] * params[\"length_pendulum\"]**2\n",
    "    return M\n",
    "\n",
    "\n",
    "def coriolis(params, x, qDot=None):\n",
    "    # hacky: we're assuming x input if qDot is None, and (q, qDot) otherwise.\n",
    "    C = np.zeros(2)\n",
    "    if qDot is None:\n",
    "        C[0] = params[\"mass_pendulum\"] * params[\"length_pendulum\"] * np.cos(x[1]) * x[3] ** 2\n",
    "        C[1] = - params[\"mass_pendulum\"] * params[\"gravity\"] * params[\"length_pendulum\"] * np.sin(x[1])\n",
    "    else:\n",
    "        C[0] = params[\"mass_pendulum\"] * params[\"length_pendulum\"] * np.cos(x[1]) * qDot[1] ** 2\n",
    "        C[1] = - params[\"mass_pendulum\"] * params[\"gravity\"] * params[\"length_pendulum\"] * np.sin(x[1])\n",
    "    return C\n",
    "\n",
    "def forces(params, x):\n",
    "    F = np.zeros(2)\n",
    "    F[0] = - params[\"spring_cart\"] * x[0]\n",
    "    return F"
   ]
  },
  {
   "cell_type": "markdown",
   "id": "cdaf545c",
   "metadata": {},
   "source": [
    "Let's do a simple simulation and plot it"
   ]
  },
  {
   "cell_type": "code",
   "execution_count": null,
   "id": "2fa19cce",
   "metadata": {
    "tags": []
   },
   "outputs": [],
   "source": [
    "import matplotlib.pyplot as plt\n",
    "\n",
    "def euler_forward(params, x):\n",
    "    M = mass_matrix(params, x)\n",
    "    C = coriolis(params, x)\n",
    "    F = forces(params, x)\n",
    "    acceleration = np.linalg.lstsq(M, F - C, rcond=None)[0]\n",
    "    # or \n",
    "    # acceleration = np.matmul(np.linalg.pinv(M), (F - C))\n",
    "    return x + np.concatenate((x[2:], acceleration))*dt\n",
    "\n",
    "x = np.array([0, 0, 0, 0.1])\n",
    "\n",
    "params = {\"mass_cart\": 1,\n",
    "          \"mass_pendulum\": 1,\n",
    "          \"length_pendulum\": 1,\n",
    "          \"spring_cart\": 1,\n",
    "          \"gravity\": 9.81}\n",
    "\n",
    "dt = 0.001\n",
    "sim_time = 10\n",
    "\n",
    "timesteps = int(sim_time/dt)\n",
    "\n",
    "x_trajectory = np.zeros((timesteps, 4))\n",
    "\n",
    "for i in range(timesteps):\n",
    "    x = euler_forward(params, x)\n",
    "    x_trajectory[i, :] = x\n",
    "\n",
    "plt.figure(1)\n",
    "plt.plot(x_trajectory[:, 0], x_trajectory[:, 2])\n",
    "plt.scatter(x_trajectory[0, 0], x_trajectory[0, 2], c=\"r\")\n",
    "plt.xlabel(\"cart position\")\n",
    "plt.ylabel(\"cart velocity\")\n",
    "plt.figure(2)\n",
    "plt.plot(x_trajectory[:, 1], x_trajectory[:, 3])\n",
    "plt.scatter(x_trajectory[0, 1], x_trajectory[0, 3], c=\"r\")\n",
    "plt.xlabel(\"pole position\")\n",
    "plt.ylabel(\"pole velocity\")\n",
    "plt.show()"
   ]
  },
  {
   "cell_type": "markdown",
   "id": "5d37b003",
   "metadata": {},
   "source": [
    "Let's do a little sanity check. The total energy should stay constant, since it's a conservative system."
   ]
  },
  {
   "cell_type": "code",
   "execution_count": null,
   "id": "85c7cb8a",
   "metadata": {
    "tags": []
   },
   "outputs": [],
   "source": [
    "def potential_energy(params, x):\n",
    "    spring_energy = 0.5 * params[\"spring_cart\"] * x[0]**2\n",
    "    gravitational_energy = (params[\"mass_pendulum\"] * params[\"gravity\"]\n",
    "                            * params[\"length_pendulum\"] * np.cos(x[1]))\n",
    "    return spring_energy + gravitational_energy\n",
    "\n",
    "def kinetic_energy(params, x):\n",
    "    cart_energy = params[\"mass_cart\"]/2. * x[2]**2\n",
    "    pendulum_energy = (params[\"mass_pendulum\"]/2.\n",
    "                       * ((params[\"length_pendulum\"] * x[3])**2\n",
    "                          + x[2]**2\n",
    "                          + 2*params[\"length_pendulum\"]*x[2]*x[3]*np.sin(x[1])))\n",
    "    return cart_energy + pendulum_energy\n",
    "\n",
    "potential = np.zeros(timesteps)\n",
    "kinetic = np.zeros(timesteps)\n",
    "for i in range(timesteps):\n",
    "    potential[i] = potential_energy(params, x_trajectory[i, :])\n",
    "    kinetic[i] = kinetic_energy(params, x_trajectory[i, :])\n",
    "\n",
    "energy_traj = potential + kinetic\n",
    "plt.figure(1)\n",
    "plt.plot(energy_traj)\n",
    "plt.xlabel('timesteps')\n",
    "plt.ylabel('Energy [joules]')\n",
    "plt.title('Total energy')\n",
    "plt.figure(2)\n",
    "plt.plot(potential)\n",
    "plt.plot(kinetic)\n",
    "plt.xlabel('timesteps')\n",
    "plt.ylabel('Energy [joules]')\n",
    "plt.legend(['potential energy', 'kinetic energy'])\n",
    "(energy_traj[0] - energy_traj[-1])/energy_traj.mean()"
   ]
  },
  {
   "cell_type": "markdown",
   "id": "0e566ddb-e570-4045-8168-4bdd078ffdfb",
   "metadata": {},
   "source": [
    "Okay, that's not great... but it seems like this may be a python not being very accurate issue... let's continue for now, but we probably either want to use scipy's integrator, or implement RK4 or at least backwards Euler."
   ]
  },
  {
   "attachments": {},
   "cell_type": "markdown",
   "id": "ffec0aa1-93f9-4aed-9061-48cac371bc4d",
   "metadata": {},
   "source": [
    "## Fitting a feedback controller\n",
    "Let's assume we know (roughly) the system parameters, in addition to having a recording of the states. But we don't know the feedback controller. Let's try to fit a linear state-feedback controller of the form:\n",
    "\n",
    "$$\n",
    "F(q, \\dot{q}) = K \\cdot\n",
    "\\left[\\begin{array}{c}\n",
    "q \\\\\n",
    "\\dot{q}\n",
    "\\end{array}\\right]\n",
    "$$\n",
    "\n",
    "where $K$ is a feedback matrix."
   ]
  },
  {
   "attachments": {},
   "cell_type": "markdown",
   "id": "3e5f8172-90ee-478e-98f2-edec1c569608",
   "metadata": {},
   "source": [
    "\n",
    "For our cartpole, assuming we still have only control at the base (and instead of the spring). So we have\n",
    "\n",
    "$$\n",
    "\\begin{align*}\\left[ \\begin{array}{cc}\n",
    "m_c + m_p & m_p \\ell_p\\sin(\\theta) \\\\\n",
    "m_p \\ell_p \\sin(\\theta) & m_p \\ell_p^2\n",
    "\\end{array} \\right]\n",
    "\\left[ \\begin{array}{c}\n",
    "\\ddot{x} \\\\ \\ddot{\\theta} \n",
    "\\end{array}\\right]\n",
    "+\n",
    "\\left[\\begin{array}{c}\n",
    "m_p \\ell_p \\cos(\\theta) \\dot{\\theta}^2 \\\\ - m_p g \\ell_p \\sin(\\theta)\n",
    "\\end{array}\\right]\n",
    "& =\n",
    "K \\cdot\n",
    "\\left[\\begin{array}{c}\n",
    "q \\\\\n",
    "\\dot{q}\n",
    "\\end{array}\\right] \\\\\n",
    "& =\n",
    "\\left[\\begin{array}{cccc}\n",
    "k_{11} & k_{12} & k_{13} & k_{14} \\\\\n",
    "k_{21} & k_{22} & k_{23} & k_{24}\n",
    "\\end{array}\\right]\n",
    "\\cdot\n",
    "\\left[\\begin{array}{c}\n",
    "x \\\\ \\theta \\\\\n",
    "\\dot{x} \\\\ \\dot{\\theta}\n",
    "\\end{array}\\right]\n",
    "\\\\\n",
    "& =\n",
    "\\left[\\begin{array}{cccc}\n",
    "k_{11} & k_{12} & k_{13} & k_{14} \\\\\n",
    "0 & 0 & 0 & 0\n",
    "\\end{array}\\right]\n",
    "\\cdot\n",
    "\\left[\\begin{array}{c}\n",
    "x \\\\ \\theta \\\\\n",
    "\\dot{x} \\\\ \\dot{\\theta}\n",
    "\\end{array}\\right]\n",
    "\\end{align*}\n",
    "$$\n"
   ]
  },
  {
   "attachments": {},
   "cell_type": "markdown",
   "id": "2fc6e2e1-9765-4e90-be90-7ca2b69142c2",
   "metadata": {},
   "source": [
    "Note we've set $k_{21} = k_{22} = k_{23} = k_{24} = 0$ since we want to ID a model that only has actuation at the cart (not on the pole).\n",
    "So we'll only need to solve for the first row.\n",
    "We also need to put htis in `A@x = b` form, to solve the least-squares problem, where `x` are the parameters we're solving for, that is $k_{11}, k_{12}, k_{13}, k_{14}$. Here `b` would be our dynamics (but just the $\\ddot{x}$ part), and `A` would be the kinematics."
   ]
  },
  {
   "cell_type": "code",
   "execution_count": null,
   "id": "f9c2b935-0adc-4b1e-95e5-af66712a11c2",
   "metadata": {
    "tags": []
   },
   "outputs": [],
   "source": [
    "n_samples = 100\n",
    "accelerations = np.diff(x_trajectory[:, 2:], axis=0)/dt\n",
    "q = x_trajectory[:n_samples, :2]\n",
    "qDot = x_trajectory[:n_samples, 2:]\n",
    "qDotDot = accelerations[:n_samples, :]\n",
    "\n",
    "def inertial_and_coriolis_forces(params, q, qDot, qDotDot):\n",
    "    f = mass_matrix(params, q)@qDotDot + coriolis(params, q, qDot)\n",
    "    return np.atleast_2d(f).T\n",
    "\n",
    "num_datapoints = q.shape[0]\n",
    "b = np.zeros((num_datapoints, 1))\n",
    "A = np.zeros((num_datapoints, 4))\n",
    "for index in range(num_datapoints):\n",
    "    A[index, :] = np.concatenate((q[index, :], qDot[index, :]))\n",
    "    b[index, :] = inertial_and_coriolis_forces(params, q[index, :], qDot[index, :], qDotDot[index, :])[0, 0]\n",
    "\n",
    "K, residuals, rank, singular_values = np.linalg.lstsq(A, b, rcond=None)\n",
    "\n",
    "print(f\"Feedback gains: {K.T}\")\n",
    "print(f\"residuals: {residuals}\")\n",
    "print(f\"rank: {rank}\")\n",
    "print(f\"singular_values: {singular_values}\")"
   ]
  },
  {
   "attachments": {},
   "cell_type": "markdown",
   "id": "37183a96-7035-413f-8006-b16f5136b736",
   "metadata": {},
   "source": [
    "Let's try using incorrect estimates for parameters"
   ]
  },
  {
   "cell_type": "code",
   "execution_count": null,
   "id": "073ffaac-d01d-4477-8c92-c42731f6f8ed",
   "metadata": {
    "tags": []
   },
   "outputs": [],
   "source": [
    "wrong_params = {\"mass_cart\": 1.1,\n",
    "                \"mass_pendulum\": 0.9,\n",
    "                \"length_pendulum\": 1.1,\n",
    "                \"gravity\": 9.81}\n",
    "\n",
    "b2 = np.zeros((num_datapoints, 1))\n",
    "A2 = np.zeros((num_datapoints, 4))\n",
    "for index in range(num_datapoints):\n",
    "    A2[index, :] = np.concatenate((q[index, :],\n",
    "                                        qDot[index, :]))\n",
    "    b2[index, :] = inertial_and_coriolis_forces(wrong_params, q[index, :], qDot[index, :], qDotDot[index, :])[0, 0]\n",
    "\n",
    "K2, residuals2, rank2, singular_values2 = np.linalg.lstsq(A2, b2, rcond=None)\n",
    "\n",
    "print(f\"Feedback gains: {K2.T}\")"
   ]
  },
  {
   "attachments": {},
   "cell_type": "markdown",
   "id": "93def614",
   "metadata": {},
   "source": [
    "Well that isn't too good, there is quite some sensitivity to parameter estimates (although we are 10% off here, so quite inaccurate). We'll need to be careful about that."
   ]
  },
  {
   "cell_type": "code",
   "execution_count": null,
   "id": "6d58becb",
   "metadata": {},
   "outputs": [],
   "source": []
  },
  {
   "attachments": {},
   "cell_type": "markdown",
   "id": "748cfe97",
   "metadata": {},
   "source": [
    "Now let's try it again, but allow for control at both the cart and the pole, but on the same data.\n",
    "We'll now want to solve for that second row as well, which means we'll need to double-stack our data, like this:\n",
    "\n",
    "$$\n",
    "\\begin{align*}\\left[ \\begin{array}{cc}\n",
    "m_c + m_p & m_p \\ell_p\\sin(\\theta) \\\\\n",
    "m_p \\ell_p \\sin(\\theta) & m_p \\ell_p^2\n",
    "\\end{array} \\right]\n",
    "\\left[ \\begin{array}{c}\n",
    "\\ddot{x} \\\\ \\ddot{\\theta} \n",
    "\\end{array}\\right]\n",
    "+\n",
    "\\left[\\begin{array}{c}\n",
    "m_p \\ell_p \\cos(\\theta) \\dot{\\theta}^2 \\\\ - m_p g \\ell_p \\sin(\\theta)\n",
    "\\end{array}\\right]\n",
    "& =\n",
    "K \\cdot\n",
    "\\left[\\begin{array}{c}\n",
    "q \\\\\n",
    "\\dot{q}\n",
    "\\end{array}\\right] \\\\\n",
    "& =\n",
    "\\left[\\begin{array}{cccccccc}\n",
    "x & \\theta & \\dot{x} & \\dot{\\theta} & 0 & 0 & 0 & 0 \\\\\n",
    " 0 & 0 & 0 & 0 & x & \\theta & \\dot{x} & \\dot{\\theta}\n",
    " \\end{array}\\right]\n",
    " \\cdot\n",
    " \\left[\\begin{array}{c}\n",
    "k_{11} \\\\\n",
    "k_{12} \\\\\n",
    "k_{13} \\\\\n",
    "k_{14} \\\\\n",
    "k_{21} \\\\\n",
    "k_{22} \\\\\n",
    "k_{23} \\\\\n",
    "k_{24}\n",
    "\\end{array}\\right]\n",
    "\\end{align*}\n",
    "$$"
   ]
  },
  {
   "cell_type": "code",
   "execution_count": null,
   "id": "fc52c46f",
   "metadata": {},
   "outputs": [],
   "source": [
    "\n",
    "b3 = np.zeros((2*num_datapoints, 1))\n",
    "A3 = np.zeros((2*num_datapoints, 8))\n",
    "\n",
    "for index in range(num_datapoints):\n",
    "    A3[2*index, :4] = np.concatenate((q[index, :], qDot[index, :]))\n",
    "    A3[2*index+1, 4:] = np.concatenate((q[index, :], qDot[index, :]))\n",
    "    b3[2*index:2*index+2, :] = inertial_and_coriolis_forces(params, q[index, :], qDot[index, :], qDotDot[index, :])\n",
    "\n",
    "K3, residuals3, rank3, singular_values3 = np.linalg.lstsq(A3, b3, rcond=None)\n",
    "\n",
    "print(f\"Feedback gains: {K3.T}\")"
   ]
  },
  {
   "attachments": {},
   "cell_type": "markdown",
   "id": "fe868f35",
   "metadata": {},
   "source": [
    "Okay good, so it correctly puts all the responsibility into the cart force."
   ]
  },
  {
   "cell_type": "code",
   "execution_count": null,
   "id": "7cad78d9",
   "metadata": {},
   "outputs": [],
   "source": []
  }
 ],
 "metadata": {
  "kernelspec": {
   "display_name": "Python 3 (ipykernel)",
   "language": "python",
   "name": "python3"
  },
  "language_info": {
   "codemirror_mode": {
    "name": "ipython",
    "version": 3
   },
   "file_extension": ".py",
   "mimetype": "text/x-python",
   "name": "python",
   "nbconvert_exporter": "python",
   "pygments_lexer": "ipython3",
   "version": "3.11.0"
  }
 },
 "nbformat": 4,
 "nbformat_minor": 5
}
